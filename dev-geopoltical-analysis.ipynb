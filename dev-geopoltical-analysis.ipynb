{
 "cells": [
  {
   "cell_type": "code",
   "execution_count": 1,
   "metadata": {},
   "outputs": [],
   "source": [
    "import os\n",
    "import twitter\n",
    "import tweepy as tw\n",
    "from dotenv import load_dotenv # add this line\n",
    "\n",
    "load_dotenv() # add this line\n",
    "consumer_key = os.getenv('CONSUMER_KEY')\n",
    "consumer_secret = os.getenv('CONSUMER_SECRET')\n",
    "access_token_key = os.getenv('ACCESS_TOKEN_KEY')\n",
    "access_token_secret = os.getenv('ACCESS_TOKEN_SECRET')\n"
   ]
  },
  {
   "cell_type": "code",
   "execution_count": 3,
   "metadata": {},
   "outputs": [],
   "source": [
    "auth = tw.OAuthHandler(consumer_key, consumer_secret)\n",
    "auth.set_access_token(access_token_key, access_token_secret)\n",
    "api = tw.API(auth, wait_on_rate_limit=True)"
   ]
  },
  {
   "cell_type": "code",
   "execution_count": 10,
   "metadata": {},
   "outputs": [],
   "source": [
    "# Define the search term and the date_since date as variables\n",
    "search_words = \"#NATO\"\n",
    "date_since = \"2018-11-16\""
   ]
  },
  {
   "cell_type": "code",
   "execution_count": 11,
   "metadata": {},
   "outputs": [
    {
     "name": "stdout",
     "output_type": "stream",
     "text": [
      ".@NATO #helicopter #NATO:: NATO Partners Collaborate to Develop Next Generation of Medium Multi-Role Helicopters… https://t.co/GSPEjccRFU\n",
      "RT @ArianaNews_: NATO to decide in new year about leaving Afghanistan: Stoltenberg\n",
      "#NATO #Afghanistan #ArianaNews\n",
      "\n",
      "https://t.co/YS6ImZQTCU…\n",
      "RT @Innov8Hub: Open Innovation in NATO relies on a strong Innovation Network that can support your defense innovation initiatives everywher…\n",
      "NATO to decide in new year about leaving Afghanistan: Stoltenberg\n",
      "#NATO #Afghanistan #ArianaNews… https://t.co/XWptQzFPly\n",
      "@UNHumanRights @hrw @UNWatch #AzeriWarCrimes #USA @NATO @HRC #60Minutes #HumanRightsViolations #nato  Open your eye… https://t.co/9yatHJ1GmS\n",
      "RT @SIGARHQ: (1/3) On August 16, #Afghan Civil Aviation Authority announced it would soon take full responsibility for #Afghanistan’s four…\n",
      "RT @steffanwatkins: I hope you find this as useful as I do. \n",
      "\n",
      "(U) #NATO Combined Communications and Electronic Board (#CCEB)\n",
      "Allied Communi…\n",
      "RT @AlonBenMeir: #NATO Sec. Gen. Jens Stoltenberg made it clear how important Turkey is to alliance, but at the same time has real concerns…\n",
      "@PaulKagame @NEPAD_Agency @KingSalman #G20 #G20Summit #IPAC #NATO #QUAD #QUAD4 #SupremeCourt #holdchinaaccountable… https://t.co/9zgu6IpCk7\n",
      "@HEBobiwine Mehn what wrong with these people?\n",
      "It's such a mocking ideology their trying to display to Ugandans.\n",
      "Or… https://t.co/R8R0aXKVyZ\n"
     ]
    }
   ],
   "source": [
    "# Collect tweets\n",
    "tweets = tw.Cursor(api.search,\n",
    "              q=search_words,\n",
    "              lang=\"en\",\n",
    "              since=date_since).items(10)\n",
    "\n",
    "# Iterate and print tweets\n",
    "for tweet in tweets:\n",
    "    print(tweet.text)"
   ]
  },
  {
   "cell_type": "code",
   "execution_count": null,
   "metadata": {},
   "outputs": [],
   "source": []
  }
 ],
 "metadata": {
  "kernelspec": {
   "display_name": "Python 3",
   "language": "python",
   "name": "python3"
  },
  "language_info": {
   "codemirror_mode": {
    "name": "ipython",
    "version": 3
   },
   "file_extension": ".py",
   "mimetype": "text/x-python",
   "name": "python",
   "nbconvert_exporter": "python",
   "pygments_lexer": "ipython3",
   "version": "3.7.0"
  }
 },
 "nbformat": 4,
 "nbformat_minor": 4
}
